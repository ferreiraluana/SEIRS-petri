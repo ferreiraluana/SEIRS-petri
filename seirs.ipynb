{
 "cells": [
  {
   "cell_type": "markdown",
   "metadata": {},
   "source": [
    "# Modelo SEIRS\n",
    "\n",
    "* Susceptible -> Exposed -> Infected -> Recovered -> Susceptible\n",
    "* ds/dt = mi - beta(t)*S*I - mi*S\n",
    "* dE/dt = beta(t)*S*I - (mi+alpha)*E\n",
    "* dI/dt = alpha*E - (mi+gamma)*I\n",
    "* dR/dt = gamma*I - mi*R\n",
    "* S(t) = S(0)*exp(-R0*(R(t)-R(0))/N)\n",
    "* R0 = beta0*alpha/((mi+alpha)(mi+gamma))"
   ]
  },
  {
   "cell_type": "code",
   "execution_count": 99,
   "metadata": {},
   "outputs": [],
   "source": [
    "import numpy as np\n",
    "from scipy.integrate import odeint\n",
    "import matplotlib.pyplot as plt\n"
   ]
  },
  {
   "cell_type": "markdown",
   "metadata": {},
   "source": [
    "### Indivíduos suscetíveis ao longo do tempo S(t)\n",
    "* S(0) é a população inicial suscetível ao vírus.\n",
    "No código: S0 = 1000000 (1 milhão de pessoas)\n",
    "* N0 é o número de reprodução básico, ou seja, quantas pessoas serão infectadas a partir de cada indivíduo infeccioso.\n",
    "* Neste modelo, o número de reprodução básico adotado foi R0 = 2.1\n",
    "* mi é a taxa de mortalidade. Vamos considerar que a taxa de mortalidade é igual a taxa de natalidade neste modelo, mi = 0.0001422\n",
    "* N é a constância da população, N = 2200000;\n",
    "* período latente médio para a doença: alpha = 14 dias\n",
    "* período infeccioso médio: gamma = 14 dias"
   ]
  },
  {
   "cell_type": "code",
   "execution_count": 100,
   "metadata": {},
   "outputs": [],
   "source": [
    "def R(t):        \n",
    "    mi = 0.0001422\n",
    "    S0 = S0 = 1000000\n",
    "    R = t*mi*S0\n",
    "    return R\n",
    "    \n",
    "def S(t):\n",
    "    S0 = 1000000\n",
    "    R0 = 2.1\n",
    "    N = N = 2200000\n",
    "    S = S0*np.exp(R0*(R(t)-R(0))/N)\n",
    "    return S\n",
    "    \n",
    "def beta(t):\n",
    "    R0 = 2.1\n",
    "    mi = 0.0001422\n",
    "    alpha = 14\n",
    "    gamma = 14\n",
    "    beta = t*np.random.rand(1,1)*R0*(mi + alpha)*(mi + gamma)\n",
    "    return beta   \n",
    "   "
   ]
  },
  {
   "cell_type": "markdown",
   "metadata": {},
   "source": [
    "### Condições iniciais\n",
    " \n",
    "   * S0 = 1000000\n",
    "   * mi = 0.0001422\n",
    "   * R0 = 2.1\n",
    "   * N = 2200000\n",
    "   * gamma = 14\n",
    "   * alpha = 14"
   ]
  },
  {
   "cell_type": "code",
   "execution_count": 107,
   "metadata": {},
   "outputs": [],
   "source": [
    "state = [1000000,90,15,10]"
   ]
  },
  {
   "cell_type": "markdown",
   "metadata": {},
   "source": [
    "### ODEs\n"
   ]
  },
  {
   "cell_type": "code",
   "execution_count": 108,
   "metadata": {},
   "outputs": [],
   "source": [
    "def model(S,t):\n",
    "    \n",
    "    S0 = 1000000\n",
    "    mi = 0.0001422\n",
    "    R0 = 2.1\n",
    "    N = 2200000\n",
    "    gamma = 14\n",
    "    alpha = 14\n",
    "    \n",
    "    S = 1000000\n",
    "    E = 90\n",
    "    I = 15\n",
    "    R = 10\n",
    "    \n",
    "    dsdt = mi - beta(t)*S*I-mi*S\n",
    "    dEdt = beta(t)*S*I-(mi+alpha)*E\n",
    "    dIdt = alpha*E-(mi+gamma)*I\n",
    "    dRdt = gamma*I- mi*R\n",
    "    \n",
    "    dzdt = [dsdt,dEdt,dIdt,dRdt]\n",
    "    \n",
    "    return dzdt    "
   ]
  },
  {
   "cell_type": "markdown",
   "metadata": {},
   "source": [
    "### Quantidade de pontos no tempo"
   ]
  },
  {
   "cell_type": "code",
   "execution_count": 127,
   "metadata": {},
   "outputs": [],
   "source": [
    "t = np.linspace(0,100,100)"
   ]
  },
  {
   "cell_type": "markdown",
   "metadata": {},
   "source": [
    "### Resolvendo as ODEs"
   ]
  },
  {
   "cell_type": "code",
   "execution_count": 128,
   "metadata": {},
   "outputs": [],
   "source": [
    "z = odeint(model,state,t)"
   ]
  },
  {
   "cell_type": "code",
   "execution_count": 129,
   "metadata": {},
   "outputs": [
    {
     "data": {
      "text/plain": [
       "array([  0.        ,   1.01010101,   2.02020202,   3.03030303,\n",
       "         4.04040404,   5.05050505,   6.06060606,   7.07070707,\n",
       "         8.08080808,   9.09090909,  10.1010101 ,  11.11111111,\n",
       "        12.12121212,  13.13131313,  14.14141414,  15.15151515,\n",
       "        16.16161616,  17.17171717,  18.18181818,  19.19191919,\n",
       "        20.2020202 ,  21.21212121,  22.22222222,  23.23232323,\n",
       "        24.24242424,  25.25252525,  26.26262626,  27.27272727,\n",
       "        28.28282828,  29.29292929,  30.3030303 ,  31.31313131,\n",
       "        32.32323232,  33.33333333,  34.34343434,  35.35353535,\n",
       "        36.36363636,  37.37373737,  38.38383838,  39.39393939,\n",
       "        40.4040404 ,  41.41414141,  42.42424242,  43.43434343,\n",
       "        44.44444444,  45.45454545,  46.46464646,  47.47474747,\n",
       "        48.48484848,  49.49494949,  50.50505051,  51.51515152,\n",
       "        52.52525253,  53.53535354,  54.54545455,  55.55555556,\n",
       "        56.56565657,  57.57575758,  58.58585859,  59.5959596 ,\n",
       "        60.60606061,  61.61616162,  62.62626263,  63.63636364,\n",
       "        64.64646465,  65.65656566,  66.66666667,  67.67676768,\n",
       "        68.68686869,  69.6969697 ,  70.70707071,  71.71717172,\n",
       "        72.72727273,  73.73737374,  74.74747475,  75.75757576,\n",
       "        76.76767677,  77.77777778,  78.78787879,  79.7979798 ,\n",
       "        80.80808081,  81.81818182,  82.82828283,  83.83838384,\n",
       "        84.84848485,  85.85858586,  86.86868687,  87.87878788,\n",
       "        88.88888889,  89.8989899 ,  90.90909091,  91.91919192,\n",
       "        92.92929293,  93.93939394,  94.94949495,  95.95959596,\n",
       "        96.96969697,  97.97979798,  98.98989899, 100.        ])"
      ]
     },
     "execution_count": 129,
     "metadata": {},
     "output_type": "execute_result"
    }
   ],
   "source": [
    "t"
   ]
  },
  {
   "cell_type": "code",
   "execution_count": 134,
   "metadata": {},
   "outputs": [
    {
     "data": {
      "text/plain": [
       "(100,)"
      ]
     },
     "execution_count": 134,
     "metadata": {},
     "output_type": "execute_result"
    }
   ],
   "source": [
    "t.shape"
   ]
  },
  {
   "cell_type": "code",
   "execution_count": 147,
   "metadata": {},
   "outputs": [
    {
     "data": {
      "text/plain": [
       "array([[ 1.00000000e+006,  9.00000000e+001,  1.50000000e+001,\n",
       "         1.00000000e+001],\n",
       "       [ 9.99999998e+005,  9.00008880e+001,  1.50012724e+001,\n",
       "         1.00002545e+001],\n",
       "       [ 3.30390646e-086,  1.65915512e-076,  1.20010289e-071,\n",
       "         5.93508947e-038],\n",
       "       [ 2.63060288e-052,  8.54323630e-072,  4.76648730e-038,\n",
       "         4.07969234e+223],\n",
       "       [ 1.83289315e-076,  3.93897365e-062,  8.54323630e-072,\n",
       "        -7.17367995e-311],\n",
       "       [ 1.89975765e-052,  5.15247748e-062,  2.17597846e-076,\n",
       "         2.09756552e-075],\n",
       "       [ 5.88459698e-062,  5.05578714e-038,  1.89934502e-052,\n",
       "         5.34850825e-038],\n",
       "       [ 4.08024390e+223,  1.74518338e-076,  1.11005786e-047,\n",
       "         8.54323630e-072],\n",
       "       [ 1.39871803e-076,  8.61661860e-043,  9.50464334e-043,\n",
       "         4.08673311e-033],\n",
       "       [ 2.09756658e-075,  1.39804463e-076,  2.31779295e-052,\n",
       "         6.37257436e-067],\n",
       "       [ 9.17107726e-072,  1.32256367e+136,  4.42701986e-062,\n",
       "         1.08646215e-071],\n",
       "       [ 8.54323630e-072,  7.11865539e-038,  1.24988533e+136,\n",
       "         1.51951914e-047],\n",
       "       [ 1.72425397e-047,  6.37257436e-067,  6.52628512e-038,\n",
       "         1.32313483e+136],\n",
       "       [ 3.94084679e-062,  4.18678953e-062,  8.54323630e-072,\n",
       "         8.60958477e-043],\n",
       "       [ 1.65610160e-047,  1.25625264e-071,  1.14372599e-071,\n",
       "         3.30390643e-086],\n",
       "       [ 4.08298028e-033,  5.15155764e-062,  8.23297732e-067,\n",
       "         9.35012002e-067],\n",
       "       [ 2.09756341e-075,  1.10898355e-047,  1.31396126e-071,\n",
       "         6.37257436e-067],\n",
       "       [ 9.06499290e-043,  4.07912981e+223,  7.71977374e-043,\n",
       "         9.73041599e-072],\n",
       "       [ 8.54323630e-072,  4.91605653e-062,  4.91605652e-062,\n",
       "         9.95305885e-043],\n",
       "       [ 4.01708083e-057,  2.09756342e-075,  9.05628278e-043,\n",
       "         2.08894469e-076],\n",
       "       [ 6.37257436e-067,  6.37840265e-067,  1.54146927e+136,\n",
       "         4.67105595e-062],\n",
       "       [ 1.40007399e-076,  3.30390645e-086,  7.13040322e-067,\n",
       "         1.83078625e+136],\n",
       "       [ 9.06499287e-043,  4.17824721e-062,  3.30390644e-086,\n",
       "         1.65636993e-047],\n",
       "       [ 3.53604172e-057,  8.15762472e-043,  5.63674788e-062,\n",
       "         2.09756869e-075],\n",
       "       [ 3.54040518e-057,  6.37839701e-067,  5.34618094e-038,\n",
       "         1.14416903e-071],\n",
       "       [ 4.07687277e+223,  3.50370255e-033,  2.09063275e-076,\n",
       "         8.54323630e-072],\n",
       "       [ 3.50292965e-033,  8.16114865e-043,  8.97481855e-067,\n",
       "         9.06328917e-043],\n",
       "       [ 2.09756763e-075,  9.73927690e-072,  9.05624165e-043,\n",
       "         6.37257436e-067],\n",
       "       [ 7.11517565e-038,  1.32199695e+136,  1.04119910e-042,\n",
       "         9.18217467e-072],\n",
       "       [ 3.30390646e-086,  1.51898566e-047,  7.12168140e-067,\n",
       "         5.34618094e-038],\n",
       "       [ 9.50644986e-043,  4.07969237e+223,  9.74816331e-072,\n",
       "         6.82018109e-038],\n",
       "       [ 8.54323630e-072,  6.82247246e-038,  5.64928752e-038,\n",
       "         5.88173708e-062],\n",
       "       [ 4.85334348e-033,  2.09756553e-075,  1.74383664e-076,\n",
       "         9.50638823e-043],\n",
       "       [ 6.37257436e-067,  5.93397759e-038,  1.54146373e+136,\n",
       "         5.88743818e-062],\n",
       "       [ 2.52863865e-052,  3.30390643e-086,  1.04137497e-042,\n",
       "         5.64352988e-038],\n",
       "       [ 5.34618094e-038,  2.31819440e-052,  4.07856721e+223,\n",
       "         5.34508235e-038],\n",
       "       [ 8.97193780e-067,  3.50367314e-033,  1.17660867e-047,\n",
       "         4.08024617e+223],\n",
       "       [ 7.40564130e-038,  5.93282511e-038,  6.37257436e-067,\n",
       "         4.18014632e-062],\n",
       "       [ 4.07799136e+223,  6.52516848e-038,  9.06849617e-043,\n",
       "         6.37257436e-067],\n",
       "       [ 6.37984596e-067,  1.68654643e+136,  9.96532713e-043,\n",
       "         4.08296564e-033],\n",
       "       [ 3.30390640e-086,  1.44975998e-047,  1.65743381e-047,\n",
       "         1.65746306e-076],\n",
       "       [ 5.15820464e-062,  4.07686613e+223,  6.22781072e-038,\n",
       "         1.90058448e-052],\n",
       "       [ 8.54323630e-072,  2.00427240e-076,  1.04050051e-042,\n",
       "         3.93799436e-062],\n",
       "       [ 8.17166531e-043,  2.09756871e-075,  2.52822920e-052,\n",
       "         5.93856480e-038],\n",
       "       [ 4.17633034e-062,  1.72478540e-047,  1.68683367e+136,\n",
       "         1.36900820e-071],\n",
       "       [ 4.28006958e-033,  3.30390648e-086,  6.52172475e-038,\n",
       "         6.23357295e-038],\n",
       "       [ 4.76074306e-038,  7.41134525e-038,  3.30390648e-086,\n",
       "         4.65924580e-033],\n",
       "       [ 2.09063275e-076,  1.08623499e-071,  9.51345649e-043,\n",
       "         2.09756236e-075],\n",
       "       [ 1.90098590e-052,  3.05874616e-057,  4.17633034e-062,\n",
       "         4.01460378e-057],\n",
       "       [ 1.39695108e+136,  4.08146683e-033,  2.63181524e-052,\n",
       "         8.54323630e-072],\n",
       "       [ 3.06122330e-057,  1.32398106e+136,  1.31263129e-071,\n",
       "         9.73926799e-072],\n",
       "       [ 3.30390647e-086,  9.16891838e-072,  9.16892699e-072,\n",
       "         7.11874963e-067],\n",
       "       [ 7.87077286e-067,  4.08082638e+223,  1.45002727e-047,\n",
       "         3.11849597e-033],\n",
       "       [ 8.54323630e-072,  2.73826090e-057,  4.01645854e-057,\n",
       "         6.75074376e-067],\n",
       "       [ 7.71800841e-043,  2.09756449e-075,  1.72452124e-047,\n",
       "         1.40006875e-076],\n",
       "       [ 4.17633034e-062,  3.31186479e-033,  4.07967911e+223,\n",
       "         7.71974640e-043],\n",
       "       [ 6.81785823e-038,  4.17633034e-062,  1.19966157e-071,\n",
       "         4.08025935e+223],\n",
       "       [ 1.74619148e-076,  2.52823722e-052,  4.17633034e-062,\n",
       "         4.66074161e-033],\n",
       "       [ 4.08024614e+223,  8.61404606e-067,  4.46816335e-033,\n",
       "         8.54323630e-072],\n",
       "       [ 1.25692196e-071, -7.72115121e-311,  4.66725397e-062,\n",
       "         1.20009770e-071],\n",
       "       [ 2.09756765e-075,  8.97483564e-067,  1.65636993e-047,\n",
       "         4.17633034e-062],\n",
       "       [ 4.76650974e-038,  4.08081094e+223,  9.17329679e-072,\n",
       "         2.21501145e-052],\n",
       "       [ 4.17633034e-062,  1.51979271e-047,  1.75980814e+136,\n",
       "         8.60535822e-067],\n",
       "       [ 4.18394457e-062,  3.30390644e-086,  6.38420954e-067,\n",
       "         4.85635274e-033],\n",
       "       [ 3.05747969e-057,  1.17633928e-047,  4.08026156e+223,\n",
       "         7.12023256e-067],\n",
       "       [ 6.23013362e-038,  8.54323630e-072,  3.11925125e-033,\n",
       "         5.64247484e-062],\n",
       "       [ 4.91034050e-062,  9.17107739e-072,  2.09756449e-075,\n",
       "         8.16467237e-043],\n",
       "       [ 7.27306880e-043,  4.17633034e-062,  1.12965743e-042,\n",
       "         1.32228087e+136],\n",
       "       [ 7.11288873e-038,  5.15533368e-062,  3.30390641e-086,\n",
       "         9.06502045e-043],\n",
       "       [ 6.74930631e-067,  3.05747969e-057,  1.79536234e-052,\n",
       "         4.07742210e+223],\n",
       "       [ 1.39838724e-076,  1.82986360e-076,  8.54323630e-072,\n",
       "         2.58268555e-057],\n",
       "       [ 4.18016112e-062,  2.21338006e-052,  4.85260586e-033,\n",
       "         2.09756766e-075],\n",
       "       [ 2.58268068e-057,  1.51952647e-047,  4.17633034e-062,\n",
       "         7.41021517e-038],\n",
       "       [ 4.08080871e+223,  3.06060824e-057,  6.75365312e-067,\n",
       "         4.17633034e-062],\n",
       "       [ 6.37547096e-067,  1.83305762e+136,  1.37011363e-071,\n",
       "         7.70753288e-043],\n",
       "       [ 3.30390647e-086,  1.24556076e-047,  6.23125460e-038,\n",
       "         1.31317753e-047],\n",
       "       [ 3.85591448e-057,  2.09756554e-075,  1.51925188e-047,\n",
       "         1.20076182e-071],\n",
       "       [ 4.17633034e-062,  9.96360301e-043,  1.25158000e+136,\n",
       "         8.61483258e-043],\n",
       "       [ 1.91858278e-076,  4.17633034e-062,  9.18214032e-072,\n",
       "         1.68541740e+136],\n",
       "       [ 2.42341650e-052,  8.16117591e-043,  3.30390648e-086,\n",
       "         1.04119775e-042],\n",
       "       [ 2.73824392e-057,  1.31317753e-047,  5.93395053e-038,\n",
       "         4.07969014e+223],\n",
       "       [ 4.47192787e-033,  3.93991953e-062,  8.54323630e-072,\n",
       "         2.00527390e-076],\n",
       "       [ 2.11020986e-052,  2.00358844e-076,  3.85716396e-057,\n",
       "         2.09756341e-075],\n",
       "       [ 5.39747439e-062,  9.05973819e-043,  8.60604023e-043,\n",
       "         2.74198257e-057],\n",
       "       [ 4.07855175e+223,  7.11405465e-038,  2.08928468e-076,\n",
       "         8.54323630e-072],\n",
       "       [ 1.89976883e-052,  6.22781081e-038,  1.04032260e-042,\n",
       "         7.49693751e-067],\n",
       "       [ 3.30390650e-086,  2.00538604e-052,  1.79494653e-052,\n",
       "         5.64005453e-038],\n",
       "       [ 6.38131756e-067,  4.07800016e+223,  1.25625870e-071,\n",
       "         9.51516698e-043],\n",
       "       [ 8.54323630e-072,  9.73487232e-072,  1.79780771e-052,\n",
       "         5.88268664e-062],\n",
       "       [ 5.88173713e-062,  2.09756551e-075,  3.69908722e-057,\n",
       "         1.65713366e-076],\n",
       "       [ 4.17633034e-062,  8.62010132e-043,  1.46991444e+136,\n",
       "         1.42737488e-071],\n",
       "       [ 1.52032307e-047,  8.54323630e-072,  4.08223097e-033,\n",
       "         9.96362362e-043],\n",
       "       [ 2.17631181e-076,  1.08586550e-042,  3.30390645e-086,\n",
       "         1.90139532e-052],\n",
       "       [ 2.42382596e-052,  3.85527752e-057,  1.19943789e-071,\n",
       "         2.09756343e-075],\n",
       "       [ 3.21805057e-057,  5.64238194e-038,  4.17633034e-062,\n",
       "         7.27136526e-043],\n",
       "       [ 1.75809684e+136,  2.17800122e-076,  1.36901251e-071,\n",
       "         3.30390645e-086],\n",
       "       [ 7.11405475e-038,  2.21338965e-052,  5.64005453e-038,\n",
       "         8.23736388e-067],\n",
       "       [ 4.07912315e+223,  6.00605011e-067,  3.85405242e-057,\n",
       "         8.54323630e-072],\n",
       "       [ 9.50116768e-043,  6.82014977e-038,  4.01458671e-057,\n",
       "         1.72345423e-047],\n",
       "       [ 2.09756869e-075,  5.39652857e-062,  3.85716149e-057,\n",
       "         4.17633034e-062]])"
      ]
     },
     "execution_count": 147,
     "metadata": {},
     "output_type": "execute_result"
    }
   ],
   "source": [
    "z"
   ]
  },
  {
   "cell_type": "code",
   "execution_count": 144,
   "metadata": {},
   "outputs": [
    {
     "data": {
      "text/plain": [
       "(100,)"
      ]
     },
     "execution_count": 144,
     "metadata": {},
     "output_type": "execute_result"
    }
   ],
   "source": [
    "z[:,0].shape"
   ]
  },
  {
   "cell_type": "markdown",
   "metadata": {},
   "source": [
    "### Plot: população suscetível"
   ]
  },
  {
   "cell_type": "code",
   "execution_count": 153,
   "metadata": {
    "scrolled": true
   },
   "outputs": [
    {
     "data": {
      "image/png": "[encoded data removed]",
      "text/plain": [
       "<Figure size 432x288 with 1 Axes>"
      ]
     },
     "metadata": {
      "needs_background": "light"
     },
     "output_type": "display_data"
    }
   ],
   "source": [
    "plt.plot(t,z[:,0], label = 'S')\n",
    "plt.xlabel(\"tempo(dias)\")\n",
    "plt.ylabel(\"S\")\n",
    "plt.title(\"População suscetível\")\n",
    "plt.legend(loc='upper right')\n",
    "plt.savefig(\"s.pdf\")"
   ]
  },
  {
   "cell_type": "markdown",
   "metadata": {},
   "source": [
    "### Plot: população exposta"
   ]
  },
  {
   "cell_type": "code",
   "execution_count": 155,
   "metadata": {},
   "outputs": [
    {
     "data": {
      "image/png": "[encoded data removed]",
      "text/plain": [
       "<Figure size 432x288 with 1 Axes>"
      ]
     },
     "metadata": {
      "needs_background": "light"
     },
     "output_type": "display_data"
    }
   ],
   "source": [
    "plt.plot(t,z[:,1], color='m', label = 'E')\n",
    "plt.xlabel(\"tempo(dias)\")\n",
    "plt.ylabel(\"E\")\n",
    "plt.title(\"População exposta\")\n",
    "plt.legend(loc='upper right')\n",
    "plt.savefig(\"e.pdf\")"
   ]
  },
  {
   "cell_type": "markdown",
   "metadata": {},
   "source": [
    "### Plot: população infecciosa"
   ]
  },
  {
   "cell_type": "code",
   "execution_count": 156,
   "metadata": {},
   "outputs": [
    {
     "data": {
      "image/png": "[encoded data removed]",
      "text/plain": [
       "<Figure size 432x288 with 1 Axes>"
      ]
     },
     "metadata": {
      "needs_background": "light"
     },
     "output_type": "display_data"
    }
   ],
   "source": [
    "plt.plot(t,z[:,2], color='olive', label = 'I')\n",
    "plt.xlabel(\"tempo(dias)\")\n",
    "plt.ylabel(\"I\")\n",
    "plt.title(\"População infecciosa\")\n",
    "plt.legend(loc='upper right')\n",
    "plt.savefig(\"i.pdf\")"
   ]
  },
  {
   "cell_type": "markdown",
   "metadata": {},
   "source": [
    "### Plot: população removida ou recuperada"
   ]
  },
  {
   "cell_type": "code",
   "execution_count": 158,
   "metadata": {},
   "outputs": [
    {
     "data": {
      "image/png": "[encoded data removed]",
      "text/plain": [
       "<Figure size 432x288 with 1 Axes>"
      ]
     },
     "metadata": {
      "needs_background": "light"
     },
     "output_type": "display_data"
    }
   ],
   "source": [
    "plt.plot(t,z[:,1], color='salmon', label = 'R')\n",
    "plt.xlabel(\"tempo(dias)\")\n",
    "plt.ylabel(\"R\")\n",
    "plt.title(\"População recuperada\")\n",
    "plt.legend(loc='upper right')\n",
    "plt.savefig(\"r.pdf\")"
   ]
  }
 ],
 "metadata": {
  "kernelspec": {
   "display_name": "Python 3",
   "language": "python",
   "name": "python3"
  },
  "language_info": {
   "codemirror_mode": {
    "name": "ipython",
    "version": 3
   },
   "file_extension": ".py",
   "mimetype": "text/x-python",
   "name": "python",
   "nbconvert_exporter": "python",
   "pygments_lexer": "ipython3",
   "version": "3.8.3"
  }
 },
 "nbformat": 4,
 "nbformat_minor": 4
}
